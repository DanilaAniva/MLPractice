{
 "cells": [
  {
   "cell_type": "markdown",
   "metadata": {
    "id": "1PhhsBUk1Hbi"
   },
   "source": [
    "# Задание\n",
    "1. Для пользовательских и/или модельных данных реализовать Гауссовский наивный байесовский классификатор.\n",
    "\n",
    "2. Для несбалансированных пользовательских и/или модельных данных реализовать дополненный наивный байесовский классификатор.\n",
    "\n",
    "3. Для пользовательских и/или модельных данных реализовать мультиномиальный наивный байесовский классификатор.\n",
    "\n",
    "4. Для пользовательских и/или модельных данных реализовать наивный байесовский классификатор Бернулли."
   ]
  },
  {
   "cell_type": "markdown",
   "metadata": {},
   "source": [
    "# Загрузка данных, предобработка"
   ]
  },
  {
   "cell_type": "code",
   "execution_count": 1,
   "metadata": {},
   "outputs": [],
   "source": [
    "import pandas as pd\n",
    "import numpy as np\n",
    "import seaborn as sns\n",
    "import matplotlib.pyplot as plt\n",
    "from scipy.stats import zscore"
   ]
  },
  {
   "cell_type": "code",
   "execution_count": 2,
   "metadata": {},
   "outputs": [],
   "source": [
    "df = pd.read_csv('xAPI-Edu-Data.csv')\n",
    "df.head(2)\n",
    "from sklearn.preprocessing import LabelEncoder\n",
    "Features = df.drop('Class',axis=1)\n",
    "Target = df['Class']\n",
    "label = LabelEncoder()\n",
    "Cat_Colums = Features.dtypes.pipe(lambda Features: Features[Features=='object']).index\n",
    "for col in Cat_Colums:\n",
    "    Features[col] = label.fit_transform(Features[col])\n",
    "from sklearn.model_selection import train_test_split\n",
    "X_train, X_test, y_train, y_test = train_test_split(Features, Target, test_size=0.2, random_state=52)"
   ]
  },
  {
   "cell_type": "code",
   "execution_count": 3,
   "metadata": {},
   "outputs": [],
   "source": [
    "from sklearn.preprocessing import LabelEncoder\n",
    "from sklearn.model_selection import train_test_split\n",
    "from sklearn.ensemble import RandomForestClassifier\n",
    "from catboost import CatBoostClassifier\n",
    "from lightgbm import LGBMClassifier\n",
    "from xgboost import XGBClassifier\n",
    "from sklearn.ensemble import BaggingClassifier\n",
    "from sklearn.tree import DecisionTreeClassifier"
   ]
  },
  {
   "cell_type": "code",
   "execution_count": 6,
   "metadata": {},
   "outputs": [],
   "source": [
    "from sklearn.linear_model import LogisticRegression\n",
    "from sklearn.metrics import accuracy_score\n",
    "from sklearn.metrics import classification_report\n",
    "import numpy as np\n",
    "import pandas as pd\n",
    "from sklearn.datasets import load_iris\n",
    "from sklearn.model_selection import train_test_split\n",
    "from sklearn.naive_bayes import GaussianNB\n",
    "from sklearn.metrics import accuracy_score\n"
   ]
  },
  {
   "cell_type": "markdown",
   "metadata": {},
   "source": [
    "## Гауссовский наивный байесовский классификатор"
   ]
  },
  {
   "cell_type": "code",
   "execution_count": 7,
   "metadata": {},
   "outputs": [
    {
     "name": "stdout",
     "output_type": "stream",
     "text": [
      "Accuracy: 0.8125\n"
     ]
    }
   ],
   "source": [
    "#Гауссовский наивный байесовский классификатор (Gaussian Naive Bayes) является одним из вариантов наивного байесовского классификатора, \n",
    "#который предполагает,\n",
    "#что распределение признаков для каждого класса является многомерным нормальным (гауссовским) распределением.\n",
    "# Создать и обучить модель наивного байесовского классификатора\n",
    "model = GaussianNB()\n",
    "model.fit(X_train, y_train)\n",
    "\n",
    "# Применить модель для предсказания меток классов на тестовом наборе данных\n",
    "y_pred = model.predict(X_test)\n",
    "\n",
    "# Рассчитать метрики модели\n",
    "accuracy_baec = accuracy_score(y_test, y_pred)\n",
    "\n",
    "# Вывести результаты\n",
    "print(\"Accuracy:\", accuracy_baec)"
   ]
  },
  {
   "cell_type": "markdown",
   "metadata": {},
   "source": [
    "## Дополненный наивный байесовский классификатор"
   ]
  },
  {
   "cell_type": "code",
   "execution_count": 9,
   "metadata": {},
   "outputs": [
    {
     "name": "stdout",
     "output_type": "stream",
     "text": [
      "Accuracy: 0.5208333333333334\n"
     ]
    }
   ],
   "source": [
    "import numpy as np\n",
    "import pandas as pd\n",
    "from sklearn.datasets import load_iris\n",
    "from sklearn.model_selection import train_test_split\n",
    "from sklearn.naive_bayes import ComplementNB\n",
    "from sklearn.metrics import accuracy_score\n",
    "model = ComplementNB()\n",
    "model.fit(X_train, y_train)\n",
    "\n",
    "# Применить модель для предсказания меток классов на тестовом наборе данных\n",
    "y_pred = model.predict(X_test)\n",
    "\n",
    "# Рассчитать метрики модели\n",
    "accuracy_dop_baec = accuracy_score(y_test, y_pred)\n",
    "\n",
    "\n",
    "# Вывести результаты\n",
    "print(\"Accuracy:\", accuracy_dop_baec)"
   ]
  },
  {
   "cell_type": "markdown",
   "metadata": {},
   "source": [
    "## Мультиномиальный наивный байесовский классификатор."
   ]
  },
  {
   "cell_type": "code",
   "execution_count": 10,
   "metadata": {},
   "outputs": [
    {
     "name": "stdout",
     "output_type": "stream",
     "text": [
      "Accuracy: 0.5520833333333334\n"
     ]
    }
   ],
   "source": [
    "import numpy as np\n",
    "import pandas as pd\n",
    "from sklearn.datasets import load_iris\n",
    "from sklearn.model_selection import train_test_split\n",
    "from sklearn.naive_bayes import MultinomialNB\n",
    "from sklearn.metrics import accuracy_score, confusion_matrix, classification_report\n",
    "\n",
    "# Создать и обучить модель мультиномиального наивного байесовского классификатора\n",
    "model = MultinomialNB()\n",
    "model.fit(X_train, y_train)\n",
    "\n",
    "# Применить модель для предсказания меток классов на тестовом наборе данных\n",
    "y_pred = model.predict(X_test)\n",
    "\n",
    "# Рассчитать метрики модели\n",
    "accuracy_multi_naiv_baes = accuracy_score(y_test, y_pred)\n",
    "\n",
    "# Вывести результаты\n",
    "print(\"Accuracy:\", accuracy_multi_naiv_baes)"
   ]
  },
  {
   "cell_type": "markdown",
   "metadata": {},
   "source": [
    "## Наивный байесовский классификатор Бернулли"
   ]
  },
  {
   "cell_type": "code",
   "execution_count": 12,
   "metadata": {},
   "outputs": [
    {
     "name": "stdout",
     "output_type": "stream",
     "text": [
      "Accuracy: 0.6875\n"
     ]
    }
   ],
   "source": [
    "import numpy as np\n",
    "import pandas as pd\n",
    "from sklearn.datasets import load_iris\n",
    "from sklearn.model_selection import train_test_split\n",
    "from sklearn.naive_bayes import BernoulliNB\n",
    "from sklearn.metrics import accuracy_score\n",
    "# Создать и обучить модель наивного байесовского классификатора Бернулли\n",
    "model = BernoulliNB()\n",
    "model.fit(X_train, y_train)\n",
    "\n",
    "# Применить модель для предсказания меток классов на тестовом наборе данных\n",
    "y_pred = model.predict(X_test)\n",
    "\n",
    "# Рассчитать метрики модели\n",
    "accuracy_bernulli = accuracy_score(y_test, y_pred)\n",
    "\n",
    "# Вывести результаты\n",
    "print(\"Accuracy:\", accuracy_bernulli)"
   ]
  },
  {
   "cell_type": "code",
   "execution_count": 20,
   "metadata": {
    "colab": {
     "base_uri": "https://localhost:8080/",
     "height": 564
    },
    "id": "088yCWYrM9vK",
    "outputId": "3a189e1e-25ec-4b86-e9ac-8e3ea71bbadf"
   },
   "outputs": [
    {
     "data": {
      "image/png": "[encoded data removed]",
      "text/plain": [
       "<Figure size 1000x600 with 1 Axes>"
      ]
     },
     "metadata": {},
     "output_type": "display_data"
    }
   ],
   "source": [
    "models = {\n",
    "    'GaussianNB': accuracy_baec, # Гауссовский наивный байесовский классификатор\n",
    "    'ComplementNB': accuracy_dop_baec, # Дополненный наивный байесовский классификатор\n",
    "    'MultinomialNB': accuracy_multi_naiv_baes, # Мультиномиальный наивный байесовский классификатор\n",
    "    'BernoulliNB': accuracy_bernulli # Наивный байесовский классификатор Бернулли\n",
    "}\n",
    "\n",
    "import matplotlib.pyplot as plt\n",
    "\n",
    "# Визуализация accuracy_score\n",
    "plt.figure(figsize=(10, 6))\n",
    "plt.bar(models.keys(), models.values(), color='orange', edgecolor='black', linewidth=2)\n",
    "plt.title('Accuracy Scores ')\n",
    "plt.xlabel('Naive Bayes Models')\n",
    "plt.ylabel('Accuracy Score')\n",
    "plt.ylim(0, 1)  # установить предел по оси y от 0 до 1\n",
    "plt.grid(axis='y', linestyle='--', alpha=0.7)\n",
    "\n",
    "plt.show()\n"
   ]
  }
 ],
 "metadata": {
  "colab": {
   "provenance": []
  },
  "kernelspec": {
   "display_name": "Python 3 (ipykernel)",
   "language": "python",
   "name": "python3"
  },
  "language_info": {
   "codemirror_mode": {
    "name": "ipython",
    "version": 3
   },
   "file_extension": ".py",
   "mimetype": "text/x-python",
   "name": "python",
   "nbconvert_exporter": "python",
   "pygments_lexer": "ipython3",
   "version": "3.11.4"
  }
 },
 "nbformat": 4,
 "nbformat_minor": 1
}
