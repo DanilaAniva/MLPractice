{
 "cells": [
  {
   "cell_type": "markdown",
   "metadata": {
    "id": "ZqD-4Q9d027Y"
   },
   "source": [
    "# Задания\n",
    "\n",
    "1. Продемонстрировать сохранение свойств исходного датасета при разбиении на тренировочную и тестовую (например, сохранения типа распределения) части для пользовательских и/или модельных данных.\n",
    "\n",
    "2. Реализовать процедуру перекрестной проверки для пользовательских и/или модельных данных. Продемонстрировать процесс наглядно.\n",
    "\n",
    "3. Для пользовательских и/или модельных данных реализовать сравнение скорости и точности результатов методов после применения перебора гиперпараметров по сетке, методом случайного поиска и с использованием байесовской оптимизации."
   ]
  },
  {
   "cell_type": "markdown",
   "metadata": {
    "id": "c7CCIZ8uVj97"
   },
   "source": [
    "## Разделение на тренировочную и тестовую выборку"
   ]
  },
  {
   "cell_type": "code",
   "execution_count": 1,
   "metadata": {
    "id": "ZeeRzOzaUY1z"
   },
   "outputs": [],
   "source": [
    "import pandas as pd\n",
    "import numpy as np\n",
    "import seaborn as sns\n",
    "import matplotlib.pyplot as plt\n",
    "from scipy.stats import zscore"
   ]
  },
  {
   "cell_type": "code",
   "execution_count": 2,
   "metadata": {
    "scrolled": true
   },
   "outputs": [
    {
     "data": {
      "text/html": [
       "<div>\n",
       "<style scoped>\n",
       "    .dataframe tbody tr th:only-of-type {\n",
       "        vertical-align: middle;\n",
       "    }\n",
       "\n",
       "    .dataframe tbody tr th {\n",
       "        vertical-align: top;\n",
       "    }\n",
       "\n",
       "    .dataframe thead th {\n",
       "        text-align: right;\n",
       "    }\n",
       "</style>\n",
       "<table border=\"1\" class=\"dataframe\">\n",
       "  <thead>\n",
       "    <tr style=\"text-align: right;\">\n",
       "      <th></th>\n",
       "      <th>gender</th>\n",
       "      <th>NationalITy</th>\n",
       "      <th>PlaceofBirth</th>\n",
       "      <th>StageID</th>\n",
       "      <th>GradeID</th>\n",
       "      <th>SectionID</th>\n",
       "      <th>Topic</th>\n",
       "      <th>Semester</th>\n",
       "      <th>Relation</th>\n",
       "      <th>raisedhands</th>\n",
       "      <th>VisITedResources</th>\n",
       "      <th>AnnouncementsView</th>\n",
       "      <th>Discussion</th>\n",
       "      <th>ParentAnsweringSurvey</th>\n",
       "      <th>ParentschoolSatisfaction</th>\n",
       "      <th>StudentAbsenceDays</th>\n",
       "      <th>Class</th>\n",
       "    </tr>\n",
       "  </thead>\n",
       "  <tbody>\n",
       "    <tr>\n",
       "      <th>0</th>\n",
       "      <td>M</td>\n",
       "      <td>KW</td>\n",
       "      <td>KuwaIT</td>\n",
       "      <td>lowerlevel</td>\n",
       "      <td>G-04</td>\n",
       "      <td>A</td>\n",
       "      <td>IT</td>\n",
       "      <td>F</td>\n",
       "      <td>Father</td>\n",
       "      <td>15</td>\n",
       "      <td>16</td>\n",
       "      <td>2</td>\n",
       "      <td>20</td>\n",
       "      <td>Yes</td>\n",
       "      <td>Good</td>\n",
       "      <td>Under-7</td>\n",
       "      <td>M</td>\n",
       "    </tr>\n",
       "    <tr>\n",
       "      <th>1</th>\n",
       "      <td>M</td>\n",
       "      <td>KW</td>\n",
       "      <td>KuwaIT</td>\n",
       "      <td>lowerlevel</td>\n",
       "      <td>G-04</td>\n",
       "      <td>A</td>\n",
       "      <td>IT</td>\n",
       "      <td>F</td>\n",
       "      <td>Father</td>\n",
       "      <td>20</td>\n",
       "      <td>20</td>\n",
       "      <td>3</td>\n",
       "      <td>25</td>\n",
       "      <td>Yes</td>\n",
       "      <td>Good</td>\n",
       "      <td>Under-7</td>\n",
       "      <td>M</td>\n",
       "    </tr>\n",
       "  </tbody>\n",
       "</table>\n",
       "</div>"
      ],
      "text/plain": [
       "  gender NationalITy PlaceofBirth     StageID GradeID SectionID Topic  \\\n",
       "0      M          KW       KuwaIT  lowerlevel    G-04         A    IT   \n",
       "1      M          KW       KuwaIT  lowerlevel    G-04         A    IT   \n",
       "\n",
       "  Semester Relation  raisedhands  VisITedResources  AnnouncementsView  \\\n",
       "0        F   Father           15                16                  2   \n",
       "1        F   Father           20                20                  3   \n",
       "\n",
       "   Discussion ParentAnsweringSurvey ParentschoolSatisfaction  \\\n",
       "0          20                   Yes                     Good   \n",
       "1          25                   Yes                     Good   \n",
       "\n",
       "  StudentAbsenceDays Class  \n",
       "0            Under-7     M  \n",
       "1            Under-7     M  "
      ]
     },
     "execution_count": 2,
     "metadata": {},
     "output_type": "execute_result"
    }
   ],
   "source": [
    "df = pd.read_csv('xAPI-Edu-Data.csv')\n",
    "df.head(2)"
   ]
  },
  {
   "cell_type": "code",
   "execution_count": 3,
   "metadata": {},
   "outputs": [],
   "source": [
    "def plot_category(feature, df, figsize=None):\n",
    "    low = df[df['Class']=='L'].groupby([feature]).size()\n",
    "    medium = df[df['Class']=='M'].groupby([feature]).size()\n",
    "    high = df[df['Class']=='H'].groupby([feature]).size()\n",
    "    labels = low.index\n",
    "\n",
    "    x = np.arange(len(labels))  # the label locations\n",
    "    width = 0.2  # the width of the bars\n",
    "\n",
    "    if figsize:\n",
    "        fig, ax = plt.subplots(figsize=figsize)\n",
    "    else:\n",
    "        fig, ax = plt.subplots()\n",
    "    \n",
    "    rects1 = ax.bar(x - width, round(low * 100 / df.groupby([feature]).size(), 2), width, label='L')\n",
    "    rects2 = ax.bar(x, round(medium * 100 / df.groupby([feature]).size(), 2), width, label='M')\n",
    "    rects3 = ax.bar(x + width, round(high * 100 / df.groupby([feature]).size(), 2), width, label='H')\n",
    "\n",
    "    ax.set_ylabel('Percentage')\n",
    "    ax.set_title('Distribution of Classes based on %s' % feature)\n",
    "    ax.set_xticks(x)\n",
    "    ax.set_xticklabels(labels, rotation=80)\n",
    "    ax.legend()\n",
    "\n",
    "    ax.bar_label(rects1, padding=3)\n",
    "    ax.bar_label(rects2, padding=3)\n",
    "    ax.bar_label(rects3, padding=3)\n",
    "    \n",
    "\n",
    "    fig.tight_layout()\n",
    "    plt.show()"
   ]
  },
  {
   "cell_type": "code",
   "execution_count": 4,
   "metadata": {},
   "outputs": [
    {
     "data": {
      "image/png": "[encoded data removed]",
      "text/plain": [
       "<Figure size 640x480 with 1 Axes>"
      ]
     },
     "metadata": {},
     "output_type": "display_data"
    }
   ],
   "source": [
    "for feature in ['gender']:\n",
    "    plot_category(feature, df)"
   ]
  },
  {
   "cell_type": "code",
   "execution_count": 5,
   "metadata": {},
   "outputs": [],
   "source": [
    "#Предобработка\n",
    "from sklearn.preprocessing import LabelEncoder\n",
    "Features = df.drop('Class',axis=1)\n",
    "Target = df['Class']\n",
    "label = LabelEncoder()\n",
    "Cat_Colums = Features.dtypes.pipe(lambda Features: Features[Features=='object']).index\n",
    "for col in Cat_Colums:\n",
    "    Features[col] = label.fit_transform(Features[col])"
   ]
  },
  {
   "cell_type": "code",
   "execution_count": 6,
   "metadata": {},
   "outputs": [],
   "source": [
    "#Разделение\n",
    "from sklearn.model_selection import train_test_split\n",
    "X_train, X_test, y_train, y_test = train_test_split(Features, Target, test_size=0.15, random_state=52)"
   ]
  },
  {
   "cell_type": "code",
   "execution_count": 8,
   "metadata": {},
   "outputs": [
    {
     "data": {
      "image/png": "[encoded data removed]",
      "text/plain": [
       "<Figure size 1200x400 with 3 Axes>"
      ]
     },
     "metadata": {},
     "output_type": "display_data"
    }
   ],
   "source": [
    "import matplotlib.pyplot as plt\n",
    "\n",
    "# Создание фигуры с тремя подграфиками\n",
    "fig, axes = plt.subplots(nrows=1, ncols=3, figsize=(12, 4))\n",
    "\n",
    "# Количество нулей и единиц в переменной y\n",
    "y_counts = Target.value_counts()\n",
    "axes[0].pie(y_counts, labels=y_counts.index, autopct='%1.1f%%')\n",
    "axes[0].set_title('Исходные данные')\n",
    "\n",
    "# Количество нулей и единиц в переменной y_train\n",
    "y_train_counts = y_train.value_counts()\n",
    "axes[1].pie(y_train_counts, labels=y_train_counts.index, autopct='%1.1f%%')\n",
    "axes[1].set_title('Тренировочная часть')\n",
    "\n",
    "# Количество нулей и единиц в переменной y_test\n",
    "y_test_counts = y_test.value_counts()\n",
    "axes[2].pie(y_test_counts, labels=y_test_counts.index, autopct='%1.1f%%')\n",
    "axes[2].set_title('Тестовая часть')\n",
    "\n",
    "# Отображение диаграмм\n",
    "plt.show()"
   ]
  },
  {
   "cell_type": "markdown",
   "metadata": {},
   "source": [
    "## Реализовать кросс-валидацию"
   ]
  },
  {
   "cell_type": "code",
   "execution_count": 14,
   "metadata": {
    "colab": {
     "base_uri": "https://localhost:8080/"
    },
    "id": "kWyZ6zG2WITr",
    "outputId": "209eb474-6740-4e05-b5d1-e052f481306d"
   },
   "outputs": [
    {
     "name": "stdout",
     "output_type": "stream",
     "text": [
      "Cross Validation Scores:  [0.7804878  0.68292683 0.59756098 0.71604938 0.64197531]\n",
      "Average CV Score:  0.6838000602228245\n"
     ]
    }
   ],
   "source": [
    "from sklearn import datasets\n",
    "from sklearn.tree import DecisionTreeClassifier\n",
    "from sklearn.model_selection import KFold, cross_val_score\n",
    "\n",
    "clf = DecisionTreeClassifier(random_state=42) # Создает объект DecisionTreeClassifier с фиксированным состоянием генератора случайных чисел\n",
    "\n",
    "k_folds = KFold(n_splits = 5)\n",
    "\n",
    "scores = cross_val_score(clf, X_train, y_train, cv = k_folds)\n",
    "\n",
    "print(\"Cross Validation Scores: \", scores)\n",
    "print(\"Average CV Score: \", scores.mean())\n"
   ]
  },
  {
   "cell_type": "code",
   "execution_count": 16,
   "metadata": {
    "colab": {
     "base_uri": "https://localhost:8080/",
     "height": 448
    },
    "id": "HF3ddezgAeXF",
    "outputId": "efb34414-99d3-4417-f093-401344350ab0"
   },
   "outputs": [
    {
     "data": {
      "text/plain": [
       "<BarContainer object of 5 artists>"
      ]
     },
     "execution_count": 16,
     "metadata": {},
     "output_type": "execute_result"
    },
    {
     "data": {
      "image/png": "[encoded data removed]",
      "text/plain": [
       "<Figure size 640x480 with 1 Axes>"
      ]
     },
     "metadata": {},
     "output_type": "display_data"
    }
   ],
   "source": [
    "plt.bar(range(len(scores)), scores, color = 'orange')"
   ]
  },
  {
   "cell_type": "markdown",
   "metadata": {
    "id": "hjURBolKWKUq"
   },
   "source": [
    "## Методы перебора гиперпараметров"
   ]
  },
  {
   "cell_type": "code",
   "execution_count": 19,
   "metadata": {
    "id": "YMu--L51bHt0"
   },
   "outputs": [],
   "source": [
    "import warnings\n",
    "warnings.filterwarnings(\"ignore\")"
   ]
  },
  {
   "cell_type": "code",
   "execution_count": 64,
   "metadata": {
    "colab": {
     "base_uri": "https://localhost:8080/"
    },
    "id": "724IWM5VWl_-",
    "outputId": "8e18c36d-5b11-4c5d-ea56-261a97f79099",
    "scrolled": false
   },
   "outputs": [
    {
     "name": "stdout",
     "output_type": "stream",
     "text": [
      "Метод перебора по сетке:\n",
      "Точность: 0.8611111111111112\n",
      "Время работы: 15.95027208328247 сек\n",
      "--------------------------------------------\n"
     ]
    },
    {
     "name": "stderr",
     "output_type": "stream",
     "text": [
      "[I 2023-12-07 14:26:28,832] A new study created in memory with name: no-name-7b462436-7fdb-4ddb-ba23-3fcc6b64a50d\n",
      "[I 2023-12-07 14:26:28,908] Trial 0 finished with value: 0.8472222222222222 and parameters: {'n_estimators': 19, 'max_depth': 10}. Best is trial 0 with value: 0.8472222222222222.\n"
     ]
    },
    {
     "name": "stdout",
     "output_type": "stream",
     "text": [
      "Метод случайного поиска:\n",
      "Точность: 0.8055555555555556\n",
      "Время работы: 6.2760090827941895 сек\n",
      "--------------------------------------------\n"
     ]
    },
    {
     "name": "stderr",
     "output_type": "stream",
     "text": [
      "[I 2023-12-07 14:26:29,059] Trial 1 finished with value: 0.8888888888888888 and parameters: {'n_estimators': 46, 'max_depth': 8}. Best is trial 1 with value: 0.8888888888888888.\n",
      "[I 2023-12-07 14:26:29,078] Trial 2 finished with value: 0.8055555555555556 and parameters: {'n_estimators': 3, 'max_depth': 9}. Best is trial 1 with value: 0.8888888888888888.\n",
      "[I 2023-12-07 14:26:29,142] Trial 3 finished with value: 0.7916666666666666 and parameters: {'n_estimators': 17, 'max_depth': 10}. Best is trial 1 with value: 0.8888888888888888.\n",
      "[I 2023-12-07 14:26:29,211] Trial 4 finished with value: 0.7916666666666666 and parameters: {'n_estimators': 24, 'max_depth': 3}. Best is trial 1 with value: 0.8888888888888888.\n",
      "[I 2023-12-07 14:26:29,408] Trial 5 finished with value: 0.8333333333333334 and parameters: {'n_estimators': 59, 'max_depth': 8}. Best is trial 1 with value: 0.8888888888888888.\n",
      "[I 2023-12-07 14:26:29,505] Trial 6 finished with value: 0.7916666666666666 and parameters: {'n_estimators': 34, 'max_depth': 2}. Best is trial 1 with value: 0.8888888888888888.\n",
      "[I 2023-12-07 14:26:29,659] Trial 7 finished with value: 0.8472222222222222 and parameters: {'n_estimators': 45, 'max_depth': 8}. Best is trial 1 with value: 0.8888888888888888.\n",
      "[I 2023-12-07 14:26:29,884] Trial 8 finished with value: 0.75 and parameters: {'n_estimators': 91, 'max_depth': 2}. Best is trial 1 with value: 0.8888888888888888.\n",
      "[I 2023-12-07 14:26:30,092] Trial 9 finished with value: 0.7916666666666666 and parameters: {'n_estimators': 62, 'max_depth': 10}. Best is trial 1 with value: 0.8888888888888888.\n",
      "[I 2023-12-07 14:26:30,381] Trial 10 finished with value: 0.8333333333333334 and parameters: {'n_estimators': 80, 'max_depth': 5}. Best is trial 1 with value: 0.8888888888888888.\n",
      "[I 2023-12-07 14:26:30,558] Trial 11 finished with value: 0.7777777777777778 and parameters: {'n_estimators': 38, 'max_depth': 7}. Best is trial 1 with value: 0.8888888888888888.\n",
      "[I 2023-12-07 14:26:30,602] Trial 12 finished with value: 0.7777777777777778 and parameters: {'n_estimators': 4, 'max_depth': 6}. Best is trial 1 with value: 0.8888888888888888.\n",
      "[I 2023-12-07 14:26:30,718] Trial 13 finished with value: 0.8611111111111112 and parameters: {'n_estimators': 22, 'max_depth': 9}. Best is trial 1 with value: 0.8888888888888888.\n",
      "[I 2023-12-07 14:26:30,950] Trial 14 finished with value: 0.8611111111111112 and parameters: {'n_estimators': 69, 'max_depth': 8}. Best is trial 1 with value: 0.8888888888888888.\n",
      "[I 2023-12-07 14:26:31,119] Trial 15 finished with value: 0.8194444444444444 and parameters: {'n_estimators': 51, 'max_depth': 5}. Best is trial 1 with value: 0.8888888888888888.\n",
      "[I 2023-12-07 14:26:31,240] Trial 16 finished with value: 0.8333333333333334 and parameters: {'n_estimators': 31, 'max_depth': 7}. Best is trial 1 with value: 0.8888888888888888.\n",
      "[I 2023-12-07 14:26:31,431] Trial 17 finished with value: 0.875 and parameters: {'n_estimators': 51, 'max_depth': 9}. Best is trial 1 with value: 0.8888888888888888.\n",
      "[I 2023-12-07 14:26:31,591] Trial 18 finished with value: 0.8611111111111112 and parameters: {'n_estimators': 47, 'max_depth': 6}. Best is trial 1 with value: 0.8888888888888888.\n",
      "[I 2023-12-07 14:26:31,919] Trial 19 finished with value: 0.8194444444444444 and parameters: {'n_estimators': 76, 'max_depth': 9}. Best is trial 1 with value: 0.8888888888888888.\n",
      "[I 2023-12-07 14:26:32,109] Trial 20 finished with value: 0.8472222222222222 and parameters: {'n_estimators': 56, 'max_depth': 7}. Best is trial 1 with value: 0.8888888888888888.\n",
      "[I 2023-12-07 14:26:32,267] Trial 21 finished with value: 0.8472222222222222 and parameters: {'n_estimators': 40, 'max_depth': 9}. Best is trial 1 with value: 0.8888888888888888.\n",
      "[I 2023-12-07 14:26:32,335] Trial 22 finished with value: 0.8333333333333334 and parameters: {'n_estimators': 12, 'max_depth': 9}. Best is trial 1 with value: 0.8888888888888888.\n",
      "[I 2023-12-07 14:26:32,452] Trial 23 finished with value: 0.8194444444444444 and parameters: {'n_estimators': 29, 'max_depth': 8}. Best is trial 1 with value: 0.8888888888888888.\n",
      "[I 2023-12-07 14:26:32,789] Trial 24 finished with value: 0.8611111111111112 and parameters: {'n_estimators': 97, 'max_depth': 9}. Best is trial 1 with value: 0.8888888888888888.\n",
      "[I 2023-12-07 14:26:33,034] Trial 25 finished with value: 0.8055555555555556 and parameters: {'n_estimators': 66, 'max_depth': 10}. Best is trial 1 with value: 0.8888888888888888.\n",
      "[I 2023-12-07 14:26:33,227] Trial 26 finished with value: 0.7916666666666666 and parameters: {'n_estimators': 52, 'max_depth': 7}. Best is trial 1 with value: 0.8888888888888888.\n",
      "[I 2023-12-07 14:26:33,347] Trial 27 finished with value: 0.8472222222222222 and parameters: {'n_estimators': 27, 'max_depth': 8}. Best is trial 1 with value: 0.8888888888888888.\n",
      "[I 2023-12-07 14:26:33,519] Trial 28 finished with value: 0.8194444444444444 and parameters: {'n_estimators': 44, 'max_depth': 9}. Best is trial 1 with value: 0.8888888888888888.\n",
      "[I 2023-12-07 14:26:33,614] Trial 29 finished with value: 0.7777777777777778 and parameters: {'n_estimators': 19, 'max_depth': 10}. Best is trial 1 with value: 0.8888888888888888.\n",
      "[I 2023-12-07 14:26:33,856] Trial 30 finished with value: 0.8055555555555556 and parameters: {'n_estimators': 75, 'max_depth': 5}. Best is trial 1 with value: 0.8888888888888888.\n",
      "[I 2023-12-07 14:26:34,117] Trial 31 finished with value: 0.8472222222222222 and parameters: {'n_estimators': 68, 'max_depth': 8}. Best is trial 1 with value: 0.8888888888888888.\n",
      "[I 2023-12-07 14:26:34,419] Trial 32 finished with value: 0.8472222222222222 and parameters: {'n_estimators': 85, 'max_depth': 8}. Best is trial 1 with value: 0.8888888888888888.\n",
      "[I 2023-12-07 14:26:34,723] Trial 33 finished with value: 0.8472222222222222 and parameters: {'n_estimators': 69, 'max_depth': 9}. Best is trial 1 with value: 0.8888888888888888.\n",
      "[I 2023-12-07 14:26:34,922] Trial 34 finished with value: 0.7916666666666666 and parameters: {'n_estimators': 55, 'max_depth': 10}. Best is trial 1 with value: 0.8888888888888888.\n",
      "[I 2023-12-07 14:26:34,986] Trial 35 finished with value: 0.8194444444444444 and parameters: {'n_estimators': 11, 'max_depth': 7}. Best is trial 1 with value: 0.8888888888888888.\n",
      "[I 2023-12-07 14:26:35,085] Trial 36 finished with value: 0.875 and parameters: {'n_estimators': 22, 'max_depth': 8}. Best is trial 1 with value: 0.8888888888888888.\n",
      "[I 2023-12-07 14:26:35,184] Trial 37 finished with value: 0.8194444444444444 and parameters: {'n_estimators': 21, 'max_depth': 10}. Best is trial 1 with value: 0.8888888888888888.\n",
      "[I 2023-12-07 14:26:35,260] Trial 38 finished with value: 0.8333333333333334 and parameters: {'n_estimators': 13, 'max_depth': 9}. Best is trial 1 with value: 0.8888888888888888.\n",
      "[I 2023-12-07 14:26:35,394] Trial 39 finished with value: 0.7777777777777778 and parameters: {'n_estimators': 36, 'max_depth': 4}. Best is trial 1 with value: 0.8888888888888888.\n",
      "[I 2023-12-07 14:26:35,447] Trial 40 finished with value: 0.7361111111111112 and parameters: {'n_estimators': 3, 'max_depth': 6}. Best is trial 1 with value: 0.8888888888888888.\n",
      "[I 2023-12-07 14:26:35,563] Trial 41 finished with value: 0.8055555555555556 and parameters: {'n_estimators': 23, 'max_depth': 8}. Best is trial 1 with value: 0.8888888888888888.\n",
      "[I 2023-12-07 14:26:35,814] Trial 42 finished with value: 0.875 and parameters: {'n_estimators': 61, 'max_depth': 8}. Best is trial 1 with value: 0.8888888888888888.\n",
      "[I 2023-12-07 14:26:36,051] Trial 43 finished with value: 0.8194444444444444 and parameters: {'n_estimators': 63, 'max_depth': 8}. Best is trial 1 with value: 0.8888888888888888.\n",
      "[I 2023-12-07 14:26:36,220] Trial 44 finished with value: 0.8472222222222222 and parameters: {'n_estimators': 45, 'max_depth': 8}. Best is trial 1 with value: 0.8888888888888888.\n",
      "[I 2023-12-07 14:26:36,472] Trial 45 finished with value: 0.8611111111111112 and parameters: {'n_estimators': 60, 'max_depth': 7}. Best is trial 1 with value: 0.8888888888888888.\n",
      "[I 2023-12-07 14:26:36,635] Trial 46 finished with value: 0.8333333333333334 and parameters: {'n_estimators': 41, 'max_depth': 10}. Best is trial 1 with value: 0.8888888888888888.\n",
      "[I 2023-12-07 14:26:36,772] Trial 47 finished with value: 0.8333333333333334 and parameters: {'n_estimators': 34, 'max_depth': 9}. Best is trial 1 with value: 0.8888888888888888.\n",
      "[I 2023-12-07 14:26:36,997] Trial 48 finished with value: 0.875 and parameters: {'n_estimators': 49, 'max_depth': 7}. Best is trial 1 with value: 0.8888888888888888.\n",
      "[I 2023-12-07 14:26:37,176] Trial 49 finished with value: 0.8194444444444444 and parameters: {'n_estimators': 49, 'max_depth': 7}. Best is trial 1 with value: 0.8888888888888888.\n"
     ]
    },
    {
     "name": "stdout",
     "output_type": "stream",
     "text": [
      "Метод байесовской оптимизации:\n",
      "Точность: 0.8888888888888888\n",
      "Время работы: 14.622408390045166 сек\n"
     ]
    }
   ],
   "source": [
    "import numpy as np\n",
    "from sklearn.datasets import load_iris\n",
    "from sklearn.model_selection import GridSearchCV, RandomizedSearchCV\n",
    "from sklearn.ensemble import RandomForestClassifier\n",
    "from skopt import BayesSearchCV\n",
    "import time\n",
    "\n",
    "\n",
    "# Загрузка датасета Iris\n",
    "iris = load_iris()\n",
    "X = Features_enc\n",
    "y = Target\n",
    "\n",
    "# Определение модели\n",
    "model = RandomForestClassifier()\n",
    "\n",
    "grid_params = {'n_estimators': [1, 2, 3, 5, 10, 25, 50, 75, 100], 'max_depth': [2, 3, 5, 10]}\n",
    "random_params = {'n_estimators': [1, 2, 3, 5, 10, 25, 50, 75, 100], 'max_depth': [2, 3, 5, 10]}\n",
    "bayes_params = {'n_estimators': (1, 100), 'max_depth': (2, 10)}\n",
    "\n",
    "# Перебор гиперпараметров по сетке\n",
    "start_time = time.time()\n",
    "grid_search = GridSearchCV(model, grid_params)\n",
    "grid_search.fit(X_train, y_train)\n",
    "grid_pred = grid_search.predict(X_test)\n",
    "end_time = time.time()\n",
    "grid_search_time = end_time - start_time\n",
    "print(\"Метод перебора по сетке:\")\n",
    "print(\"Точность:\", accuracy_score(y_test, grid_pred))\n",
    "print(\"Время работы:\", grid_search_time, \"сек\")\n",
    "print(\"--------------------------------------------\")\n",
    "\n",
    "# Случайный поиск гиперпараметров\n",
    "start_time = time.time()\n",
    "random_search = RandomizedSearchCV(model, random_params)\n",
    "random_search.fit(X_train, y_train)\n",
    "random_pred = random_search.predict(X_test)\n",
    "end_time = time.time()\n",
    "random_search_time = end_time - start_time\n",
    "print(\"Метод случайного поиска:\")\n",
    "print(\"Точность:\", accuracy_score(y_test, random_pred))\n",
    "print(\"Время работы:\", random_search_time, \"сек\")\n",
    "print(\"--------------------------------------------\")\n",
    "\n",
    "# Байесовский\n",
    "import optuna\n",
    "def objective(trial):\n",
    "    params = {\n",
    "        'n_estimators': trial.suggest_int('n_estimators', 1, 100),\n",
    "        'max_depth': trial.suggest_int('max_depth', 2, 10)\n",
    "    }\n",
    "    model = RandomForestClassifier(**params)\n",
    "    model.fit(X_train, y_train)\n",
    "    mod_pr = model.predict(X_test)\n",
    "    accur = accuracy_score(y_test, mod_pr)\n",
    "    return accur\n",
    "study = optuna.create_study(direction='maximize')\n",
    "study.optimize(objective, n_trials=50)\n",
    "end_time = time.time()\n",
    "bayes_search_time = end_time - start_time\n",
    "best_params = study.best_params\n",
    "best_score = study.best_value\n",
    "print(\"Метод байесовской оптимизации:\")\n",
    "print(\"Точность:\", best_score)\n",
    "print(\"Время работы:\", bayes_search_time, \"сек\")"
   ]
  }
 ],
 "metadata": {
  "colab": {
   "provenance": []
  },
  "kernelspec": {
   "display_name": "Python 3 (ipykernel)",
   "language": "python",
   "name": "python3"
  },
  "language_info": {
   "codemirror_mode": {
    "name": "ipython",
    "version": 3
   },
   "file_extension": ".py",
   "mimetype": "text/x-python",
   "name": "python",
   "nbconvert_exporter": "python",
   "pygments_lexer": "ipython3",
   "version": "3.11.4"
  }
 },
 "nbformat": 4,
 "nbformat_minor": 1
}
